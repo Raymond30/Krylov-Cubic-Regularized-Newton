{
 "cells": [
  {
   "cell_type": "code",
   "execution_count": 1,
   "metadata": {},
   "outputs": [],
   "source": [
    "import sklearn.datasets\n",
    "import urllib.request\n",
    "import os.path\n",
    "\n",
    "import numpy as np\n",
    "import matplotlib.pyplot as plt\n",
    "\n",
    "from optimizer.loss import LogisticRegression\n",
    "from optimizer.cubic import Cubic_LS, Cubic_Krylov_LS, SSCN"
   ]
  },
  {
   "cell_type": "code",
   "execution_count": 2,
   "metadata": {},
   "outputs": [],
   "source": [
    "# Loading the dataset\n",
    "dataset = 'rcv1_train.binary'\n",
    "# dataset = 'news20.binary'\n",
    "\n",
    "data_url = \"https://www.csie.ntu.edu.tw/~cjlin/libsvmtools/datasets/binary/{}\".format(dataset)\n",
    "\n",
    "if dataset in {'gisette_scale','duke','rcv1_train.binary','news20.binary'}:\n",
    "    data_path = './{}.bz2'.format(dataset)\n",
    "else:\n",
    "    data_path = './{}'.format(dataset)\n",
    "if not os.path.exists(data_path):\n",
    "    f = urllib.request.urlretrieve(data_url, data_path)\n",
    "A, b = sklearn.datasets.load_svmlight_file(data_path)\n",
    "# A = A.toarray()\n",
    "\n",
    "# Converting A into the Compressed Sparse Column (CSC) format; this is particularly suitable for SSCN\n",
    "A_csc = A.tocsc()"
   ]
  },
  {
   "cell_type": "code",
   "execution_count": 3,
   "metadata": {},
   "outputs": [
    {
     "name": "stdout",
     "output_type": "stream",
     "text": [
      "(20242, 47236)\n"
     ]
    }
   ],
   "source": [
    "print(A.shape)"
   ]
  },
  {
   "cell_type": "code",
   "execution_count": 4,
   "metadata": {},
   "outputs": [],
   "source": [
    "# Define loss functions\n",
    "loss = LogisticRegression(A, b, l1=0, l2=0, store_mat_vec_prod=True)\n",
    "loss_csc = LogisticRegression(A_csc, b, l1=0, l2=0, store_mat_vec_prod=True)\n",
    "n, dim = A.shape\n",
    "x0 = np.ones(dim) * 0.5\n",
    "\n",
    "# Set the max iteration and time\n",
    "it_max = 50000\n",
    "t_max = 5"
   ]
  },
  {
   "cell_type": "code",
   "execution_count": 5,
   "metadata": {},
   "outputs": [],
   "source": [
    "memory_size = 10\n",
    "memory_size_bench = 20\n",
    "reg_coef = 1e-3\n",
    "\n",
    "cub_krylov = Cubic_Krylov_LS(loss=loss, reg_coef= reg_coef, label='Krylov Cubic Newton (m = {})'.format(memory_size),\n",
    "                               subspace_dim=memory_size, tolerance = 1e-9)\n",
    "\n",
    "# cub_krylov_bench is used to compute the optimal value of the function\n",
    "cub_krylov_bench = Cubic_Krylov_LS(loss=loss, reg_coef= reg_coef, label='Krylov Cubic Newton (m = {})'.format(memory_size_bench),\n",
    "                               subspace_dim=memory_size_bench, tolerance = 1e-9)\n",
    "\n",
    "cub_root = Cubic_LS(loss=loss, reg_coef=reg_coef, cubic_solver=\"CG\", label='Cubic Newton', tolerance = 1e-8)\n",
    "\n",
    "sscn = SSCN(loss=loss_csc, reg_coef = reg_coef, label='SSCN (m = {})'.format(memory_size),\n",
    "                               subspace_dim=memory_size, tolerance = 1e-9)"
   ]
  },
  {
   "cell_type": "code",
   "execution_count": 6,
   "metadata": {},
   "outputs": [
    {
     "name": "stdout",
     "output_type": "stream",
     "text": [
      "Running optimizer: Cubic Newton\n"
     ]
    },
    {
     "name": "stderr",
     "output_type": "stream",
     "text": [
      "  0%|          | 5/50000 [00:05<14:23:06,  1.04s/it]\n"
     ]
    }
   ],
   "source": [
    "print(f'Running optimizer: {cub_root.label}')\n",
    "cub_root.run(x0=x0, it_max=it_max, t_max=t_max)\n",
    "cub_root.compute_loss_of_iterates()"
   ]
  },
  {
   "cell_type": "code",
   "execution_count": 7,
   "metadata": {},
   "outputs": [],
   "source": [
    "t_max = cub_root.trace.ts[-1]"
   ]
  },
  {
   "cell_type": "code",
   "execution_count": 8,
   "metadata": {},
   "outputs": [
    {
     "name": "stdout",
     "output_type": "stream",
     "text": [
      "Running optimizer: SSCN (m = 10)\n"
     ]
    },
    {
     "name": "stderr",
     "output_type": "stream",
     "text": [
      "  3%|▎         | 1326/50000 [00:05<03:12, 252.67it/s]\n"
     ]
    }
   ],
   "source": [
    "print(f'Running optimizer: {sscn.label}')\n",
    "sscn.run(x0=x0, it_max=it_max, t_max=t_max)\n",
    "sscn.compute_loss_of_iterates()"
   ]
  },
  {
   "cell_type": "code",
   "execution_count": 9,
   "metadata": {},
   "outputs": [
    {
     "name": "stdout",
     "output_type": "stream",
     "text": [
      "Running optimizer: SSCN (m = 50)\n"
     ]
    },
    {
     "name": "stderr",
     "output_type": "stream",
     "text": [
      "  2%|▏         | 1122/50000 [00:05<03:49, 212.94it/s]\n"
     ]
    },
    {
     "name": "stdout",
     "output_type": "stream",
     "text": [
      "Running optimizer: SSCN (m = 100)\n"
     ]
    },
    {
     "name": "stderr",
     "output_type": "stream",
     "text": [
      "  1%|          | 568/50000 [00:05<07:36, 108.18it/s]\n"
     ]
    },
    {
     "name": "stdout",
     "output_type": "stream",
     "text": [
      "Running optimizer: SSCN (m = 500)\n"
     ]
    },
    {
     "name": "stderr",
     "output_type": "stream",
     "text": [
      "  0%|          | 55/50000 [00:05<1:20:02, 10.40it/s]\n"
     ]
    }
   ],
   "source": [
    "sscn50 = SSCN(loss=loss_csc, reg_coef = 1e-3, label='SSCN (m = {})'.format(50),\n",
    "                               subspace_dim=50, tolerance = 1e-9)\n",
    "\n",
    "sscn100 = SSCN(loss=loss_csc, reg_coef = 1e-3, label='SSCN (m = {})'.format(100),\n",
    "                               subspace_dim=100, tolerance = 1e-9)\n",
    "\n",
    "sscn500 = SSCN(loss=loss_csc, reg_coef = 1e-3, label='SSCN (m = {})'.format(500),\n",
    "                               subspace_dim=500, tolerance = 1e-9)\n",
    "\n",
    "print(f'Running optimizer: {sscn50.label}')\n",
    "sscn50.run(x0=x0, it_max=it_max, t_max=t_max)\n",
    "sscn50.compute_loss_of_iterates()\n",
    "\n",
    "print(f'Running optimizer: {sscn100.label}')\n",
    "sscn100.run(x0=x0, it_max=it_max, t_max=t_max)\n",
    "sscn100.compute_loss_of_iterates()\n",
    "\n",
    "print(f'Running optimizer: {sscn500.label}')\n",
    "sscn500.run(x0=x0, it_max=it_max, t_max=t_max)\n",
    "sscn500.compute_loss_of_iterates()"
   ]
  },
  {
   "cell_type": "code",
   "execution_count": 10,
   "metadata": {},
   "outputs": [
    {
     "name": "stdout",
     "output_type": "stream",
     "text": [
      "Running optimizer: SSCN (m = 1000)\n"
     ]
    },
    {
     "name": "stderr",
     "output_type": "stream",
     "text": [
      "  0%|          | 11/50000 [00:05<6:55:57,  2.00it/s]\n"
     ]
    },
    {
     "name": "stdout",
     "output_type": "stream",
     "text": [
      "Running optimizer: SSCN (m = 5000)\n"
     ]
    },
    {
     "name": "stderr",
     "output_type": "stream",
     "text": [
      "  0%|          | 1/50000 [00:50<707:25:48, 50.94s/it]\n"
     ]
    }
   ],
   "source": [
    "sscn1000 = SSCN(loss=loss_csc, reg_coef = 1e-3, label='SSCN (m = {})'.format(1000),\n",
    "                               subspace_dim=1000, tolerance = 1e-9)\n",
    "\n",
    "sscn5000 = SSCN(loss=loss_csc, reg_coef = 1e-3, label='SSCN (m = {})'.format(5000),\n",
    "                               subspace_dim=5000, tolerance = 1e-9)\n",
    "\n",
    "print(f'Running optimizer: {sscn1000.label}')\n",
    "sscn1000.run(x0=x0, it_max=it_max, t_max=t_max)\n",
    "sscn1000.compute_loss_of_iterates()\n",
    "\n",
    "print(f'Running optimizer: {sscn5000.label}')\n",
    "sscn5000.run(x0=x0, it_max=it_max, t_max=t_max)\n",
    "sscn5000.compute_loss_of_iterates()"
   ]
  },
  {
   "cell_type": "code",
   "execution_count": 11,
   "metadata": {},
   "outputs": [
    {
     "name": "stdout",
     "output_type": "stream",
     "text": [
      "Running optimizer: Krylov Cubic Newton (m = 10)\n"
     ]
    },
    {
     "name": "stderr",
     "output_type": "stream",
     "text": [
      "  0%|          | 105/50000 [00:05<41:38, 19.97it/s]\n"
     ]
    },
    {
     "name": "stdout",
     "output_type": "stream",
     "text": [
      "Running optimizer: Krylov Cubic Newton (m = 20)\n"
     ]
    },
    {
     "name": "stderr",
     "output_type": "stream",
     "text": [
      "  0%|          | 417/250000 [00:26<4:21:56, 15.88it/s]\n"
     ]
    }
   ],
   "source": [
    "print(f'Running optimizer: {cub_krylov.label}')\n",
    "cub_krylov.run(x0=x0, it_max=it_max, t_max=t_max)\n",
    "cub_krylov.compute_loss_of_iterates()\n",
    "\n",
    "print(f'Running optimizer: {cub_krylov_bench.label}')\n",
    "cub_krylov_bench.run(x0=x0, it_max=5*it_max, t_max=5*t_max)\n",
    "cub_krylov_bench.compute_loss_of_iterates()"
   ]
  },
  {
   "cell_type": "code",
   "execution_count": 12,
   "metadata": {},
   "outputs": [
    {
     "data": {
      "image/png": "[encoded data removed]",
      "text/plain": [
       "<Figure size 640x480 with 1 Axes>"
      ]
     },
     "metadata": {},
     "output_type": "display_data"
    }
   ],
   "source": [
    "import seaborn as sns \n",
    "\n",
    "sns.set_style('ticks') # setting style\n",
    "# sns.set_context('paper') # setting context\n",
    "sns.set_palette('colorblind') # setting palette\n",
    "\n",
    "SMALL_SIZE = 10\n",
    "MEDIUM_SIZE = 12\n",
    "BIGGER_SIZE = 14\n",
    "\n",
    "plt.rc('font', size=SMALL_SIZE)          # controls default text sizes\n",
    "plt.rc('axes', titlesize=MEDIUM_SIZE)     # fontsize of the axes title\n",
    "plt.rc('axes', labelsize=MEDIUM_SIZE)    # fontsize of the x and y labels\n",
    "plt.rc('xtick', labelsize=SMALL_SIZE)    # fontsize of the tick labels\n",
    "plt.rc('ytick', labelsize=SMALL_SIZE)    # fontsize of the tick labels\n",
    "plt.rc('legend', fontsize=SMALL_SIZE)    # legend fontsize\n",
    "plt.rc('figure', titlesize=BIGGER_SIZE)  # fontsize of the figure title\n",
    "\n",
    "flag_time = True\n",
    "# plt.style.use('seaborn-v0_8-colorblind')\n",
    "\n",
    "color_cycle = plt.rcParams['axes.prop_cycle'].by_key()['color']\n",
    "\n",
    "f_opt = min(loss.f_opt, loss_csc.f_opt)\n",
    "\n",
    "cub_root.trace.plot_losses(marker='o', markersize=5, f_opt=f_opt, time=flag_time, label='CRN')\n",
    "\n",
    "sscn.trace.plot_losses(marker='^', markersize=6, f_opt=f_opt, time=flag_time)\n",
    "sscn50.trace.plot_losses(marker='^', markersize=6, f_opt=f_opt, time=flag_time)\n",
    "\n",
    "sscn100.trace.plot_losses(marker='^', markersize=6, f_opt=f_opt, time=flag_time)\n",
    "sscn500.trace.plot_losses(marker='^', markersize=6, f_opt=f_opt, time=flag_time)\n",
    "# sscn1000.trace.plot_losses(marker='^', markersize=6, f_opt=f_opt, time=flag_time)\n",
    "# sscn5000.trace.plot_losses(marker='^', time=flag_time)\n",
    "\n",
    "cub_krylov.trace.plot_losses(marker='v', markersize=6, f_opt=f_opt, color = color_cycle[7], time=flag_time, label='Krylov CRN (m = 10)')\n",
    "\n",
    "\n",
    "# cub_root.trace.plot_losses(marker='*', label='cubic Newton (exact)')\n",
    "# plt.xscale('log')\n",
    "# print(cub.trace.loss_vals)\n",
    "plt.yscale('log')\n",
    "# plt.ylim(1e-9,10)\n",
    "plt.xlim(0,70)\n",
    "plt.legend()\n",
    "plt.grid()\n",
    "plt.xlabel('Time (s)')\n",
    "plt.title('{} ($n={}$, $d={}$)'.format(dataset,n,dim))\n",
    "plt.savefig('figs/intro_{}.pdf'.format(dataset))\n",
    "plt.show()\n"
   ]
  }
 ],
 "metadata": {
  "kernelspec": {
   "display_name": "p38",
   "language": "python",
   "name": "python3"
  },
  "language_info": {
   "codemirror_mode": {
    "name": "ipython",
    "version": 3
   },
   "file_extension": ".py",
   "mimetype": "text/x-python",
   "name": "python",
   "nbconvert_exporter": "python",
   "pygments_lexer": "ipython3",
   "version": "3.8.18"
  },
  "orig_nbformat": 4
 },
 "nbformat": 4,
 "nbformat_minor": 2
}
